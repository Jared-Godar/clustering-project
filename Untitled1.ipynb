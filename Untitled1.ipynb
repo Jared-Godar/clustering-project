{
 "cells": [
  {
   "cell_type": "code",
   "execution_count": 2,
   "id": "3b4a1ca9-3e83-4dd7-bd16-1af2fb002f74",
   "metadata": {},
   "outputs": [
    {
     "name": "stderr",
     "output_type": "stream",
     "text": [
      "/opt/homebrew/anaconda3/lib/python3.8/site-packages/IPython/core/interactiveshell.py:3457: DtypeWarning: Columns (63) have mixed types.Specify dtype option on import or set low_memory=False.\n",
      "  exec(code_obj, self.user_global_ns, self.user_ns)\n"
     ]
    }
   ],
   "source": [
    "import mitosheet\n",
    "mitosheet.sheet()\n",
    "\n"
   ]
  },
  {
   "cell_type": "code",
   "execution_count": 3,
   "id": "44ba5a85-b7c0-4098-977d-ca9e8c9e9817",
   "metadata": {},
   "outputs": [],
   "source": [
    "df =pd.read_csv('unedited_zillow.csv')"
   ]
  },
  {
   "cell_type": "code",
   "execution_count": null,
   "id": "931252a2-3aea-43bb-a532-ac2511cfe401",
   "metadata": {},
   "outputs": [],
   "source": [
    "df.head()"
   ]
  },
  {
   "cell_type": "code",
   "execution_count": 5,
   "id": "46c8e65b-e038-4245-9f1f-219d059e733f",
   "metadata": {},
   "outputs": [
    {
     "data": {
      "application/vnd.jupyter.widget-view+json": {
       "model_id": "1ccfbfab70654f4db3c9ea72f97918c7",
       "version_major": 2,
       "version_minor": 0
      },
      "text/plain": [
       "MitoWidget(analysis_data_json='{\"analysisName\": \"UUID-b8aaf077-2701-46b1-a4ef-7f2180493705\", \"code\": {\"imports…"
      ]
     },
     "metadata": {},
     "output_type": "display_data"
    }
   ],
   "source": [
    "import mitosheet\n",
    "mitosheet.sheet(df, view_df=True)"
   ]
  },
  {
   "cell_type": "code",
   "execution_count": null,
   "id": "9736bb44-3e1f-4090-9e37-09113ca591df",
   "metadata": {},
   "outputs": [],
   "source": [
    "from mitosheet import *; register_analysis('UUID-b8aaf077-2701-46b1-a4ef-7f2180493705')\n",
    "\n",
    "# Reordered parcelid in df\n",
    "df_columns = [col for col in df.columns if col != 'parcelid']\n",
    "df_columns.insert(2, 'parcelid')\n",
    "df = df[df_columns]\n",
    "\n",
    "# Reordered architecturalstyletypeid in df\n",
    "df_columns = [col for col in df.columns if col != 'architecturalstyletypeid']\n",
    "df_columns.insert(2, 'architecturalstyletypeid')\n",
    "df = df[df_columns]\n"
   ]
  }
 ],
 "metadata": {
  "kernelspec": {
   "display_name": "Python 3 (ipykernel)",
   "language": "python",
   "name": "python3"
  },
  "language_info": {
   "codemirror_mode": {
    "name": "ipython",
    "version": 3
   },
   "file_extension": ".py",
   "mimetype": "text/x-python",
   "name": "python",
   "nbconvert_exporter": "python",
   "pygments_lexer": "ipython3",
   "version": "3.8.12"
  }
 },
 "nbformat": 4,
 "nbformat_minor": 5
}
